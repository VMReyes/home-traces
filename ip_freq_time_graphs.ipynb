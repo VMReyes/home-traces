{
 "cells": [
  {
   "cell_type": "code",
   "execution_count": 1,
   "id": "0e417a1d",
   "metadata": {},
   "outputs": [],
   "source": [
    "import pandas as pd\n",
    "import numpy as np\n",
    "\n",
    "from parse_output import parse_output"
   ]
  },
  {
   "cell_type": "code",
   "execution_count": 2,
   "id": "1565f878",
   "metadata": {},
   "outputs": [],
   "source": [
    "path = 'output/results2.csv'\n",
    "df = parse_output(path)"
   ]
  },
  {
   "cell_type": "code",
   "execution_count": 3,
   "id": "6db8bfa2",
   "metadata": {},
   "outputs": [],
   "source": [
    "def get_ip_asn_frequencies(df):\n",
    "    def frequency_dict(s):\n",
    "        v_counts = s.value_counts().to_dict()\n",
    "        if v_counts == {}:\n",
    "            v_counts = np.nan\n",
    "        return v_counts\n",
    "    \n",
    "    df = df.copy().set_index('dest name')\n",
    "    return df.filter(regex='(ip)|(asn)', axis=1).groupby('dest name').agg(frequency_dict)\n",
    "\n",
    "def drop_empty(df):\n",
    "    ip_col = 'hop {} probe 1 ip'\n",
    "    asn_col = 'hop {} probe 1 asn'\n",
    "\n",
    "    to_drop = []\n",
    "    for i in range(10, 31):\n",
    "        if df[ip_col.format(i)].isnull().all():\n",
    "            to_drop.append(ip_col.format(i))\n",
    "            to_drop.append(asn_col.format(i))\n",
    "        \n",
    "    return df.drop(columns=to_drop)"
   ]
  },
  {
   "cell_type": "code",
   "execution_count": null,
   "id": "d08a0143",
   "metadata": {
    "scrolled": true
   },
   "outputs": [],
   "source": [
    "target_df = drop_empty(get_ip_asn_frequencies(df))"
   ]
  },
  {
   "cell_type": "code",
   "execution_count": null,
   "id": "359fd238",
   "metadata": {},
   "outputs": [],
   "source": [
    "import time\n",
    "df['time'] = pd.to_datetime(df['time'].apply(lambda x: time.strftime('%Y-%m-%d %H:%M:%S', time.localtime(x))))"
   ]
  },
  {
   "cell_type": "code",
   "execution_count": null,
   "id": "f356f86b",
   "metadata": {},
   "outputs": [],
   "source": [
    "import plotly.express as px\n",
    "\n",
    "def sort_ips(col):\n",
    "    def parse_ip(x):\n",
    "        if x is not None:\n",
    "            return list(map(int, x.split('.')))\n",
    "        else:\n",
    "            return [0]\n",
    "        \n",
    "    ordered = sorted(col, key=lambda x: parse_ip(x))\n",
    "    ordered.reverse()\n",
    "    return ordered\n",
    "\n",
    "\n",
    "def ips_with_time(df):\n",
    "    cols = ['dest ip']\n",
    "    cols += ['hop {} probe 1 ip'.format(i) for i in range(1, 31)]\n",
    "    for col in cols:\n",
    "        graph_df = df[['dest name', 'time', col]]\n",
    "        if graph_df[col].isnull().all():\n",
    "            continue\n",
    "        fig = px.scatter(graph_df, x='time', y=col, color='dest name', symbol='dest name', category_orders={col: sort_ips(graph_df[col].unique())})\n",
    "        fig.show()\n",
    "\n",
    "\n",
    "def target_dest_ips_with_time(df, target_dest):\n",
    "    cols = ['dest ip']\n",
    "    cols += ['hop {} probe 1 ip'.format(i) for i in range(1, 31)]\n",
    "    for col in cols:\n",
    "        graph_df = df.loc[df['dest name'] == target_dest][['time', col]]\n",
    "        if graph_df[col].isnull().all():\n",
    "            continue\n",
    "        fig = px.scatter(graph_df, x='time', y=col, category_orders={col: sort_ips(graph_df[col].unique())})\n",
    "        fig.show()"
   ]
  },
  {
   "cell_type": "code",
   "execution_count": null,
   "id": "62518821",
   "metadata": {},
   "outputs": [],
   "source": [
    "ips_with_time(df)"
   ]
  },
  {
   "cell_type": "code",
   "execution_count": null,
   "id": "7a8261a2",
   "metadata": {},
   "outputs": [],
   "source": [
    "target_dest_ips_with_time(df, 'youtube.com')"
   ]
  }
 ],
 "metadata": {
  "kernelspec": {
   "display_name": "Python 3 (ipykernel)",
   "language": "python",
   "name": "python3"
  },
  "language_info": {
   "codemirror_mode": {
    "name": "ipython",
    "version": 3
   },
   "file_extension": ".py",
   "mimetype": "text/x-python",
   "name": "python",
   "nbconvert_exporter": "python",
   "pygments_lexer": "ipython3",
   "version": "3.8.12"
  }
 },
 "nbformat": 4,
 "nbformat_minor": 5
}
