{
 "cells": [
  {
   "cell_type": "markdown",
   "metadata": {},
   "source": [
    "## Exploring the AS's traversed during a series of traceroutes to various websites"
   ]
  },
  {
   "cell_type": "code",
   "execution_count": 30,
   "metadata": {},
   "outputs": [],
   "source": [
    "from parse_output import parse_output\n",
    "import pandas as pd\n",
    "import pyasn\n",
    "import numpy as np\n",
    "import plotly.graph_objects as go"
   ]
  },
  {
   "cell_type": "code",
   "execution_count": 2,
   "metadata": {},
   "outputs": [
    {
     "data": {
      "text/html": [
       "<div>\n",
       "<style scoped>\n",
       "    .dataframe tbody tr th:only-of-type {\n",
       "        vertical-align: middle;\n",
       "    }\n",
       "\n",
       "    .dataframe tbody tr th {\n",
       "        vertical-align: top;\n",
       "    }\n",
       "\n",
       "    .dataframe thead th {\n",
       "        text-align: right;\n",
       "    }\n",
       "</style>\n",
       "<table border=\"1\" class=\"dataframe\">\n",
       "  <thead>\n",
       "    <tr style=\"text-align: right;\">\n",
       "      <th></th>\n",
       "      <th>dest name</th>\n",
       "      <th>dest ip</th>\n",
       "      <th>num hops</th>\n",
       "      <th>hop 1 probe 1 name</th>\n",
       "      <th>hop 1 probe 1 ip</th>\n",
       "      <th>hop 1 probe 1 asn</th>\n",
       "      <th>hop 1 probe 1 rtt</th>\n",
       "      <th>hop 1 probe 1 annotation</th>\n",
       "      <th>hop 2 probe 1 name</th>\n",
       "      <th>hop 2 probe 1 ip</th>\n",
       "      <th>...</th>\n",
       "      <th>hop 29 probe 1 name</th>\n",
       "      <th>hop 29 probe 1 ip</th>\n",
       "      <th>hop 29 probe 1 asn</th>\n",
       "      <th>hop 29 probe 1 rtt</th>\n",
       "      <th>hop 29 probe 1 annotation</th>\n",
       "      <th>hop 30 probe 1 name</th>\n",
       "      <th>hop 30 probe 1 ip</th>\n",
       "      <th>hop 30 probe 1 asn</th>\n",
       "      <th>hop 30 probe 1 rtt</th>\n",
       "      <th>hop 30 probe 1 annotation</th>\n",
       "    </tr>\n",
       "  </thead>\n",
       "  <tbody>\n",
       "    <tr>\n",
       "      <th>0</th>\n",
       "      <td>google.com</td>\n",
       "      <td>142.250.80.46</td>\n",
       "      <td>14</td>\n",
       "      <td>DESKTOP-BBCCJU7.mshome.net</td>\n",
       "      <td>172.26.208.1</td>\n",
       "      <td>NaN</td>\n",
       "      <td>0.298</td>\n",
       "      <td>None</td>\n",
       "      <td>Linksys02715.hsd1.ma.comcast.net</td>\n",
       "      <td>192.168.1.1</td>\n",
       "      <td>...</td>\n",
       "      <td>None</td>\n",
       "      <td>None</td>\n",
       "      <td>None</td>\n",
       "      <td>None</td>\n",
       "      <td>None</td>\n",
       "      <td>None</td>\n",
       "      <td>None</td>\n",
       "      <td>None</td>\n",
       "      <td>None</td>\n",
       "      <td>None</td>\n",
       "    </tr>\n",
       "    <tr>\n",
       "      <th>1</th>\n",
       "      <td>youtube.com</td>\n",
       "      <td>142.251.35.174</td>\n",
       "      <td>14</td>\n",
       "      <td>DESKTOP-BBCCJU7.mshome.net</td>\n",
       "      <td>172.26.208.1</td>\n",
       "      <td>NaN</td>\n",
       "      <td>0.162</td>\n",
       "      <td>None</td>\n",
       "      <td>Linksys02715.hsd1.ma.comcast.net</td>\n",
       "      <td>192.168.1.1</td>\n",
       "      <td>...</td>\n",
       "      <td>None</td>\n",
       "      <td>None</td>\n",
       "      <td>None</td>\n",
       "      <td>None</td>\n",
       "      <td>None</td>\n",
       "      <td>None</td>\n",
       "      <td>None</td>\n",
       "      <td>None</td>\n",
       "      <td>None</td>\n",
       "      <td>None</td>\n",
       "    </tr>\n",
       "    <tr>\n",
       "      <th>2</th>\n",
       "      <td>amazon.com</td>\n",
       "      <td>205.251.242.103</td>\n",
       "      <td>30</td>\n",
       "      <td>DESKTOP-BBCCJU7.mshome.net</td>\n",
       "      <td>172.26.208.1</td>\n",
       "      <td>NaN</td>\n",
       "      <td>0.256</td>\n",
       "      <td>None</td>\n",
       "      <td>Linksys02715.hsd1.ma.comcast.net</td>\n",
       "      <td>192.168.1.1</td>\n",
       "      <td>...</td>\n",
       "      <td>None</td>\n",
       "      <td>None</td>\n",
       "      <td>None</td>\n",
       "      <td>None</td>\n",
       "      <td>None</td>\n",
       "      <td>None</td>\n",
       "      <td>None</td>\n",
       "      <td>None</td>\n",
       "      <td>None</td>\n",
       "      <td>None</td>\n",
       "    </tr>\n",
       "    <tr>\n",
       "      <th>3</th>\n",
       "      <td>yahoo.com</td>\n",
       "      <td>74.6.143.25</td>\n",
       "      <td>16</td>\n",
       "      <td>DESKTOP-BBCCJU7.mshome.net</td>\n",
       "      <td>172.26.208.1</td>\n",
       "      <td>NaN</td>\n",
       "      <td>0.156</td>\n",
       "      <td>None</td>\n",
       "      <td>Linksys02715.hsd1.ma.comcast.net</td>\n",
       "      <td>192.168.1.1</td>\n",
       "      <td>...</td>\n",
       "      <td>None</td>\n",
       "      <td>None</td>\n",
       "      <td>None</td>\n",
       "      <td>None</td>\n",
       "      <td>None</td>\n",
       "      <td>None</td>\n",
       "      <td>None</td>\n",
       "      <td>None</td>\n",
       "      <td>None</td>\n",
       "      <td>None</td>\n",
       "    </tr>\n",
       "    <tr>\n",
       "      <th>4</th>\n",
       "      <td>facebook.com</td>\n",
       "      <td>157.240.220.35</td>\n",
       "      <td>10</td>\n",
       "      <td>DESKTOP-BBCCJU7.mshome.net</td>\n",
       "      <td>172.26.208.1</td>\n",
       "      <td>NaN</td>\n",
       "      <td>0.279</td>\n",
       "      <td>None</td>\n",
       "      <td>Linksys02715.hsd1.ma.comcast.net</td>\n",
       "      <td>192.168.1.1</td>\n",
       "      <td>...</td>\n",
       "      <td>None</td>\n",
       "      <td>None</td>\n",
       "      <td>None</td>\n",
       "      <td>None</td>\n",
       "      <td>None</td>\n",
       "      <td>None</td>\n",
       "      <td>None</td>\n",
       "      <td>None</td>\n",
       "      <td>None</td>\n",
       "      <td>None</td>\n",
       "    </tr>\n",
       "  </tbody>\n",
       "</table>\n",
       "<p>5 rows × 153 columns</p>\n",
       "</div>"
      ],
      "text/plain": [
       "      dest name          dest ip  num hops          hop 1 probe 1 name  \\\n",
       "0    google.com    142.250.80.46        14  DESKTOP-BBCCJU7.mshome.net   \n",
       "1   youtube.com   142.251.35.174        14  DESKTOP-BBCCJU7.mshome.net   \n",
       "2    amazon.com  205.251.242.103        30  DESKTOP-BBCCJU7.mshome.net   \n",
       "3     yahoo.com      74.6.143.25        16  DESKTOP-BBCCJU7.mshome.net   \n",
       "4  facebook.com   157.240.220.35        10  DESKTOP-BBCCJU7.mshome.net   \n",
       "\n",
       "  hop 1 probe 1 ip  hop 1 probe 1 asn hop 1 probe 1 rtt  \\\n",
       "0     172.26.208.1                NaN             0.298   \n",
       "1     172.26.208.1                NaN             0.162   \n",
       "2     172.26.208.1                NaN             0.256   \n",
       "3     172.26.208.1                NaN             0.156   \n",
       "4     172.26.208.1                NaN             0.279   \n",
       "\n",
       "  hop 1 probe 1 annotation                hop 2 probe 1 name hop 2 probe 1 ip  \\\n",
       "0                     None  Linksys02715.hsd1.ma.comcast.net      192.168.1.1   \n",
       "1                     None  Linksys02715.hsd1.ma.comcast.net      192.168.1.1   \n",
       "2                     None  Linksys02715.hsd1.ma.comcast.net      192.168.1.1   \n",
       "3                     None  Linksys02715.hsd1.ma.comcast.net      192.168.1.1   \n",
       "4                     None  Linksys02715.hsd1.ma.comcast.net      192.168.1.1   \n",
       "\n",
       "   ...  hop 29 probe 1 name hop 29 probe 1 ip hop 29 probe 1 asn  \\\n",
       "0  ...                 None              None               None   \n",
       "1  ...                 None              None               None   \n",
       "2  ...                 None              None               None   \n",
       "3  ...                 None              None               None   \n",
       "4  ...                 None              None               None   \n",
       "\n",
       "  hop 29 probe 1 rtt hop 29 probe 1 annotation  hop 30 probe 1 name  \\\n",
       "0               None                      None                 None   \n",
       "1               None                      None                 None   \n",
       "2               None                      None                 None   \n",
       "3               None                      None                 None   \n",
       "4               None                      None                 None   \n",
       "\n",
       "  hop 30 probe 1 ip hop 30 probe 1 asn hop 30 probe 1 rtt  \\\n",
       "0              None               None               None   \n",
       "1              None               None               None   \n",
       "2              None               None               None   \n",
       "3              None               None               None   \n",
       "4              None               None               None   \n",
       "\n",
       "  hop 30 probe 1 annotation  \n",
       "0                      None  \n",
       "1                      None  \n",
       "2                      None  \n",
       "3                      None  \n",
       "4                      None  \n",
       "\n",
       "[5 rows x 153 columns]"
      ]
     },
     "execution_count": 2,
     "metadata": {},
     "output_type": "execute_result"
    }
   ],
   "source": [
    "data_path = \"data/home-victor-results-1637268720-incomplete.csv\"\n",
    "df = parse_output(data_path)\n",
    "df.head()"
   ]
  },
  {
   "cell_type": "code",
   "execution_count": 3,
   "metadata": {},
   "outputs": [
    {
     "data": {
      "text/plain": [
       "(9665, 153)"
      ]
     },
     "execution_count": 3,
     "metadata": {},
     "output_type": "execute_result"
    }
   ],
   "source": [
    "df.shape"
   ]
  },
  {
   "cell_type": "code",
   "execution_count": 96,
   "metadata": {},
   "outputs": [],
   "source": [
    "def was_traceroute_successful(traceroute):\n",
    "    \"\"\"Returns true if we found the resolved IP in the traceroute (success).\"\"\"\n",
    "    traceroute_ips = traceroute.filter(regex=\".*ip.*\")\n",
    "    ips = list(traceroute_ips)\n",
    "    dest = list(traceroute_ips)[0]\n",
    "    return dest in ips[1:]\n",
    "\n",
    "def get_destination_df(df, destination):\n",
    "    return df.loc[df[\"dest name\"] == destination]\n",
    "\n",
    "def get_completed_df(df):\n",
    "    return df[df.apply(lambda x: was_traceroute_successful(x), axis=1)]\n",
    "\n",
    "def get_asn_path_df(df):\n",
    "    cols = [f\"asn {i}\" for i in range(1, 31)]\n",
    "    rows = []\n",
    "    for ind, row in df.iterrows():\n",
    "        curr_row = []\n",
    "        prev_asn = None\n",
    "        # count instance of the asn to track paths where we go from A -> B -> A -> C\n",
    "        asn_counts = {}\n",
    "        for i in range(1, 31):\n",
    "            asn = row[f\"hop {i} probe 1 asn\"]\n",
    "            if not pd.isnull(asn) and asn != prev_asn:\n",
    "                if asn not in asn_counts:\n",
    "                    asn_counts[asn] = 0\n",
    "                else:\n",
    "                    asn_counts[asn] += 1\n",
    "                curr_row.append((asn, asn_counts[asn]))\n",
    "                prev_asn = asn\n",
    "        while len(curr_row) < 30:\n",
    "            curr_row.append(None)\n",
    "        rows.append(curr_row)\n",
    "    return pd.DataFrame(rows, columns=cols)\n",
    "\n",
    "def get_site_df(df, destination):\n",
    "    return get_asn_path_df(get_completed_df(get_destination_df(df, destination)))\n",
    "\n",
    "def get_source_target_pairs_count(asn_path_df):\n",
    "    pairs_count = {}\n",
    "    for ind, row in asn_path_df.iterrows():\n",
    "        for i in range(1, 30):\n",
    "            source_asn, target_asn = row[f\"asn {i}\"], row[f\"asn {i+1}\"]\n",
    "            if not pd.isnull(source_asn) and not pd.isnull(target_asn):\n",
    "                pair = (source_asn, target_asn)\n",
    "                if pair not in pairs_count:\n",
    "                    pairs_count[pair] = 1\n",
    "                else:\n",
    "                    pairs_count[pair] += 1\n",
    "    return pairs_count\n",
    "\n",
    "def get_unique_asns(asn_path_df):\n",
    "    all_asns = asn_path_df[[f\"asn {i}\" for i in range(1, 31)]].values.ravel()\n",
    "    all_asns = all_asns[~pd.isnull(all_asns)]\n",
    "    return list(pd.unique(all_asns))\n",
    "\n",
    "def plot_sankey_diagram(site):\n",
    "    asn_path_df = get_site_df(df, site)\n",
    "    unique_asns = get_unique_asns(asn_path_df)\n",
    "\n",
    "    source_target_pairs_count = get_source_target_pairs_count(asn_path_df)\n",
    "\n",
    "    # get labels to asn numbers here, example for google.com\n",
    "    # asn_dict = {\n",
    "    #     7922: \"Comcast (AS7922)\",\n",
    "    #     33657: \"Comcast (AS33657)\",\n",
    "    #     33491: \"Comcast (AS33491)\",\n",
    "    #     15169: \"Google AS(15169)\"\n",
    "    # }\n",
    "\n",
    "    labels = unique_asns\n",
    "    node_to_ind = {}\n",
    "    for ind, node in enumerate(labels):\n",
    "        node_to_ind[node] = ind\n",
    "    \n",
    "    # update labels here\n",
    "    # labels = [asn_dict[node[0]] for node in unique_asns]\n",
    "\n",
    "    sources = []\n",
    "    targets = []\n",
    "    values = []\n",
    "    for key, val in source_target_pairs_count.items():\n",
    "        sources.append(node_to_ind[key[0]])\n",
    "        targets.append(node_to_ind[key[1]])\n",
    "        values.append(val)\n",
    "\n",
    "    fig = go.Figure(data=[go.Sankey(node=dict(label=labels), link=dict(source=sources, target=targets, value=values))])\n",
    "\n",
    "    fig.update_layout(title=f\"{site} asn\", font_size=10)\n",
    "    fig.show() \n",
    "    "
   ]
  },
  {
   "cell_type": "code",
   "execution_count": 97,
   "metadata": {},
   "outputs": [
    {
     "name": "stdout",
     "output_type": "stream",
     "text": [
      "['google.com', 'yahoo.com', 'facebook.com', 'force.com', 'myshopify.com', 'youtube.com', 'dropbox.com', 'craigslist.com', 'canva.com', 'apple.com', 'adobe.com', 'salesforce.com', 'twitter.com', 'instagram.com', 'chaturbate.com', 'homedepot.com', 'zillow.com', 'espn.com', 'tiktok.com']\n"
     ]
    }
   ],
   "source": [
    "filtered_df = get_completed_df(df)[\"dest name\"].value_counts()\n",
    "sites = list(filtered_df.index)\n",
    "print(sites)"
   ]
  },
  {
   "cell_type": "code",
   "execution_count": 98,
   "metadata": {},
   "outputs": [
    {
     "data": {
      "application/vnd.plotly.v1+json": {
       "config": {
        "plotlyServerURL": "https://plot.ly"
       },
       "data": [
        {
         "link": {
          "source": [
           0,
           1,
           2,
           2,
           4
          ],
          "target": [
           1,
           2,
           3,
           4,
           3
          ],
          "value": [
           197,
           197,
           67,
           130,
           130
          ]
         },
         "node": {
          "label": [
           [
            7922,
            0
           ],
           [
            33657,
            0
           ],
           [
            7922,
            1
           ],
           [
            15169,
            0
           ],
           [
            33491,
            0
           ]
          ]
         },
         "type": "sankey"
        }
       ],
       "layout": {
        "font": {
         "size": 10
        },
        "template": {
         "data": {
          "bar": [
           {
            "error_x": {
             "color": "#2a3f5f"
            },
            "error_y": {
             "color": "#2a3f5f"
            },
            "marker": {
             "line": {
              "color": "#E5ECF6",
              "width": 0.5
             },
             "pattern": {
              "fillmode": "overlay",
              "size": 10,
              "solidity": 0.2
             }
            },
            "type": "bar"
           }
          ],
          "barpolar": [
           {
            "marker": {
             "line": {
              "color": "#E5ECF6",
              "width": 0.5
             },
             "pattern": {
              "fillmode": "overlay",
              "size": 10,
              "solidity": 0.2
             }
            },
            "type": "barpolar"
           }
          ],
          "carpet": [
           {
            "aaxis": {
             "endlinecolor": "#2a3f5f",
             "gridcolor": "white",
             "linecolor": "white",
             "minorgridcolor": "white",
             "startlinecolor": "#2a3f5f"
            },
            "baxis": {
             "endlinecolor": "#2a3f5f",
             "gridcolor": "white",
             "linecolor": "white",
             "minorgridcolor": "white",
             "startlinecolor": "#2a3f5f"
            },
            "type": "carpet"
           }
          ],
          "choropleth": [
           {
            "colorbar": {
             "outlinewidth": 0,
             "ticks": ""
            },
            "type": "choropleth"
           }
          ],
          "contour": [
           {
            "colorbar": {
             "outlinewidth": 0,
             "ticks": ""
            },
            "colorscale": [
             [
              0,
              "#0d0887"
             ],
             [
              0.1111111111111111,
              "#46039f"
             ],
             [
              0.2222222222222222,
              "#7201a8"
             ],
             [
              0.3333333333333333,
              "#9c179e"
             ],
             [
              0.4444444444444444,
              "#bd3786"
             ],
             [
              0.5555555555555556,
              "#d8576b"
             ],
             [
              0.6666666666666666,
              "#ed7953"
             ],
             [
              0.7777777777777778,
              "#fb9f3a"
             ],
             [
              0.8888888888888888,
              "#fdca26"
             ],
             [
              1,
              "#f0f921"
             ]
            ],
            "type": "contour"
           }
          ],
          "contourcarpet": [
           {
            "colorbar": {
             "outlinewidth": 0,
             "ticks": ""
            },
            "type": "contourcarpet"
           }
          ],
          "heatmap": [
           {
            "colorbar": {
             "outlinewidth": 0,
             "ticks": ""
            },
            "colorscale": [
             [
              0,
              "#0d0887"
             ],
             [
              0.1111111111111111,
              "#46039f"
             ],
             [
              0.2222222222222222,
              "#7201a8"
             ],
             [
              0.3333333333333333,
              "#9c179e"
             ],
             [
              0.4444444444444444,
              "#bd3786"
             ],
             [
              0.5555555555555556,
              "#d8576b"
             ],
             [
              0.6666666666666666,
              "#ed7953"
             ],
             [
              0.7777777777777778,
              "#fb9f3a"
             ],
             [
              0.8888888888888888,
              "#fdca26"
             ],
             [
              1,
              "#f0f921"
             ]
            ],
            "type": "heatmap"
           }
          ],
          "heatmapgl": [
           {
            "colorbar": {
             "outlinewidth": 0,
             "ticks": ""
            },
            "colorscale": [
             [
              0,
              "#0d0887"
             ],
             [
              0.1111111111111111,
              "#46039f"
             ],
             [
              0.2222222222222222,
              "#7201a8"
             ],
             [
              0.3333333333333333,
              "#9c179e"
             ],
             [
              0.4444444444444444,
              "#bd3786"
             ],
             [
              0.5555555555555556,
              "#d8576b"
             ],
             [
              0.6666666666666666,
              "#ed7953"
             ],
             [
              0.7777777777777778,
              "#fb9f3a"
             ],
             [
              0.8888888888888888,
              "#fdca26"
             ],
             [
              1,
              "#f0f921"
             ]
            ],
            "type": "heatmapgl"
           }
          ],
          "histogram": [
           {
            "marker": {
             "pattern": {
              "fillmode": "overlay",
              "size": 10,
              "solidity": 0.2
             }
            },
            "type": "histogram"
           }
          ],
          "histogram2d": [
           {
            "colorbar": {
             "outlinewidth": 0,
             "ticks": ""
            },
            "colorscale": [
             [
              0,
              "#0d0887"
             ],
             [
              0.1111111111111111,
              "#46039f"
             ],
             [
              0.2222222222222222,
              "#7201a8"
             ],
             [
              0.3333333333333333,
              "#9c179e"
             ],
             [
              0.4444444444444444,
              "#bd3786"
             ],
             [
              0.5555555555555556,
              "#d8576b"
             ],
             [
              0.6666666666666666,
              "#ed7953"
             ],
             [
              0.7777777777777778,
              "#fb9f3a"
             ],
             [
              0.8888888888888888,
              "#fdca26"
             ],
             [
              1,
              "#f0f921"
             ]
            ],
            "type": "histogram2d"
           }
          ],
          "histogram2dcontour": [
           {
            "colorbar": {
             "outlinewidth": 0,
             "ticks": ""
            },
            "colorscale": [
             [
              0,
              "#0d0887"
             ],
             [
              0.1111111111111111,
              "#46039f"
             ],
             [
              0.2222222222222222,
              "#7201a8"
             ],
             [
              0.3333333333333333,
              "#9c179e"
             ],
             [
              0.4444444444444444,
              "#bd3786"
             ],
             [
              0.5555555555555556,
              "#d8576b"
             ],
             [
              0.6666666666666666,
              "#ed7953"
             ],
             [
              0.7777777777777778,
              "#fb9f3a"
             ],
             [
              0.8888888888888888,
              "#fdca26"
             ],
             [
              1,
              "#f0f921"
             ]
            ],
            "type": "histogram2dcontour"
           }
          ],
          "mesh3d": [
           {
            "colorbar": {
             "outlinewidth": 0,
             "ticks": ""
            },
            "type": "mesh3d"
           }
          ],
          "parcoords": [
           {
            "line": {
             "colorbar": {
              "outlinewidth": 0,
              "ticks": ""
             }
            },
            "type": "parcoords"
           }
          ],
          "pie": [
           {
            "automargin": true,
            "type": "pie"
           }
          ],
          "scatter": [
           {
            "marker": {
             "colorbar": {
              "outlinewidth": 0,
              "ticks": ""
             }
            },
            "type": "scatter"
           }
          ],
          "scatter3d": [
           {
            "line": {
             "colorbar": {
              "outlinewidth": 0,
              "ticks": ""
             }
            },
            "marker": {
             "colorbar": {
              "outlinewidth": 0,
              "ticks": ""
             }
            },
            "type": "scatter3d"
           }
          ],
          "scattercarpet": [
           {
            "marker": {
             "colorbar": {
              "outlinewidth": 0,
              "ticks": ""
             }
            },
            "type": "scattercarpet"
           }
          ],
          "scattergeo": [
           {
            "marker": {
             "colorbar": {
              "outlinewidth": 0,
              "ticks": ""
             }
            },
            "type": "scattergeo"
           }
          ],
          "scattergl": [
           {
            "marker": {
             "colorbar": {
              "outlinewidth": 0,
              "ticks": ""
             }
            },
            "type": "scattergl"
           }
          ],
          "scattermapbox": [
           {
            "marker": {
             "colorbar": {
              "outlinewidth": 0,
              "ticks": ""
             }
            },
            "type": "scattermapbox"
           }
          ],
          "scatterpolar": [
           {
            "marker": {
             "colorbar": {
              "outlinewidth": 0,
              "ticks": ""
             }
            },
            "type": "scatterpolar"
           }
          ],
          "scatterpolargl": [
           {
            "marker": {
             "colorbar": {
              "outlinewidth": 0,
              "ticks": ""
             }
            },
            "type": "scatterpolargl"
           }
          ],
          "scatterternary": [
           {
            "marker": {
             "colorbar": {
              "outlinewidth": 0,
              "ticks": ""
             }
            },
            "type": "scatterternary"
           }
          ],
          "surface": [
           {
            "colorbar": {
             "outlinewidth": 0,
             "ticks": ""
            },
            "colorscale": [
             [
              0,
              "#0d0887"
             ],
             [
              0.1111111111111111,
              "#46039f"
             ],
             [
              0.2222222222222222,
              "#7201a8"
             ],
             [
              0.3333333333333333,
              "#9c179e"
             ],
             [
              0.4444444444444444,
              "#bd3786"
             ],
             [
              0.5555555555555556,
              "#d8576b"
             ],
             [
              0.6666666666666666,
              "#ed7953"
             ],
             [
              0.7777777777777778,
              "#fb9f3a"
             ],
             [
              0.8888888888888888,
              "#fdca26"
             ],
             [
              1,
              "#f0f921"
             ]
            ],
            "type": "surface"
           }
          ],
          "table": [
           {
            "cells": {
             "fill": {
              "color": "#EBF0F8"
             },
             "line": {
              "color": "white"
             }
            },
            "header": {
             "fill": {
              "color": "#C8D4E3"
             },
             "line": {
              "color": "white"
             }
            },
            "type": "table"
           }
          ]
         },
         "layout": {
          "annotationdefaults": {
           "arrowcolor": "#2a3f5f",
           "arrowhead": 0,
           "arrowwidth": 1
          },
          "autotypenumbers": "strict",
          "coloraxis": {
           "colorbar": {
            "outlinewidth": 0,
            "ticks": ""
           }
          },
          "colorscale": {
           "diverging": [
            [
             0,
             "#8e0152"
            ],
            [
             0.1,
             "#c51b7d"
            ],
            [
             0.2,
             "#de77ae"
            ],
            [
             0.3,
             "#f1b6da"
            ],
            [
             0.4,
             "#fde0ef"
            ],
            [
             0.5,
             "#f7f7f7"
            ],
            [
             0.6,
             "#e6f5d0"
            ],
            [
             0.7,
             "#b8e186"
            ],
            [
             0.8,
             "#7fbc41"
            ],
            [
             0.9,
             "#4d9221"
            ],
            [
             1,
             "#276419"
            ]
           ],
           "sequential": [
            [
             0,
             "#0d0887"
            ],
            [
             0.1111111111111111,
             "#46039f"
            ],
            [
             0.2222222222222222,
             "#7201a8"
            ],
            [
             0.3333333333333333,
             "#9c179e"
            ],
            [
             0.4444444444444444,
             "#bd3786"
            ],
            [
             0.5555555555555556,
             "#d8576b"
            ],
            [
             0.6666666666666666,
             "#ed7953"
            ],
            [
             0.7777777777777778,
             "#fb9f3a"
            ],
            [
             0.8888888888888888,
             "#fdca26"
            ],
            [
             1,
             "#f0f921"
            ]
           ],
           "sequentialminus": [
            [
             0,
             "#0d0887"
            ],
            [
             0.1111111111111111,
             "#46039f"
            ],
            [
             0.2222222222222222,
             "#7201a8"
            ],
            [
             0.3333333333333333,
             "#9c179e"
            ],
            [
             0.4444444444444444,
             "#bd3786"
            ],
            [
             0.5555555555555556,
             "#d8576b"
            ],
            [
             0.6666666666666666,
             "#ed7953"
            ],
            [
             0.7777777777777778,
             "#fb9f3a"
            ],
            [
             0.8888888888888888,
             "#fdca26"
            ],
            [
             1,
             "#f0f921"
            ]
           ]
          },
          "colorway": [
           "#636efa",
           "#EF553B",
           "#00cc96",
           "#ab63fa",
           "#FFA15A",
           "#19d3f3",
           "#FF6692",
           "#B6E880",
           "#FF97FF",
           "#FECB52"
          ],
          "font": {
           "color": "#2a3f5f"
          },
          "geo": {
           "bgcolor": "white",
           "lakecolor": "white",
           "landcolor": "#E5ECF6",
           "showlakes": true,
           "showland": true,
           "subunitcolor": "white"
          },
          "hoverlabel": {
           "align": "left"
          },
          "hovermode": "closest",
          "mapbox": {
           "style": "light"
          },
          "paper_bgcolor": "white",
          "plot_bgcolor": "#E5ECF6",
          "polar": {
           "angularaxis": {
            "gridcolor": "white",
            "linecolor": "white",
            "ticks": ""
           },
           "bgcolor": "#E5ECF6",
           "radialaxis": {
            "gridcolor": "white",
            "linecolor": "white",
            "ticks": ""
           }
          },
          "scene": {
           "xaxis": {
            "backgroundcolor": "#E5ECF6",
            "gridcolor": "white",
            "gridwidth": 2,
            "linecolor": "white",
            "showbackground": true,
            "ticks": "",
            "zerolinecolor": "white"
           },
           "yaxis": {
            "backgroundcolor": "#E5ECF6",
            "gridcolor": "white",
            "gridwidth": 2,
            "linecolor": "white",
            "showbackground": true,
            "ticks": "",
            "zerolinecolor": "white"
           },
           "zaxis": {
            "backgroundcolor": "#E5ECF6",
            "gridcolor": "white",
            "gridwidth": 2,
            "linecolor": "white",
            "showbackground": true,
            "ticks": "",
            "zerolinecolor": "white"
           }
          },
          "shapedefaults": {
           "line": {
            "color": "#2a3f5f"
           }
          },
          "ternary": {
           "aaxis": {
            "gridcolor": "white",
            "linecolor": "white",
            "ticks": ""
           },
           "baxis": {
            "gridcolor": "white",
            "linecolor": "white",
            "ticks": ""
           },
           "bgcolor": "#E5ECF6",
           "caxis": {
            "gridcolor": "white",
            "linecolor": "white",
            "ticks": ""
           }
          },
          "title": {
           "x": 0.05
          },
          "xaxis": {
           "automargin": true,
           "gridcolor": "white",
           "linecolor": "white",
           "ticks": "",
           "title": {
            "standoff": 15
           },
           "zerolinecolor": "white",
           "zerolinewidth": 2
          },
          "yaxis": {
           "automargin": true,
           "gridcolor": "white",
           "linecolor": "white",
           "ticks": "",
           "title": {
            "standoff": 15
           },
           "zerolinecolor": "white",
           "zerolinewidth": 2
          }
         }
        },
        "title": {
         "text": "google.com asn"
        }
       }
      }
     },
     "metadata": {},
     "output_type": "display_data"
    }
   ],
   "source": [
    "plot_sankey_diagram(\"google.com\")"
   ]
  },
  {
   "cell_type": "code",
   "execution_count": null,
   "metadata": {},
   "outputs": [],
   "source": []
  },
  {
   "cell_type": "code",
   "execution_count": null,
   "metadata": {},
   "outputs": [],
   "source": []
  }
 ],
 "metadata": {
  "kernelspec": {
   "display_name": "Python 3",
   "language": "python",
   "name": "python3"
  },
  "language_info": {
   "codemirror_mode": {
    "name": "ipython",
    "version": 3
   },
   "file_extension": ".py",
   "mimetype": "text/x-python",
   "name": "python",
   "nbconvert_exporter": "python",
   "pygments_lexer": "ipython3",
   "version": "3.9.7"
  }
 },
 "nbformat": 4,
 "nbformat_minor": 4
}
