{
 "cells": [
  {
   "cell_type": "code",
   "execution_count": 47,
   "metadata": {},
   "outputs": [],
   "source": [
    "import parse_output\n",
    "import pandas as pd\n",
    "import time\n",
    "from datetime import datetime\n",
    "import plotly.express as px\n",
    "import plotly.graph_objects as go\n",
    "import numpy as np\n",
    "import csv\n",
    "import pyasn"
   ]
  },
  {
   "cell_type": "code",
   "execution_count": 14,
   "metadata": {},
   "outputs": [],
   "source": [
    "asndb = pyasn.pyasn('data/ip-to-asn.dat')\n",
    "def was_traceroute_successful(traceroute):\n",
    "    traceroute_ips = traceroute.filter(regex=\".*ip.*\")\n",
    "    \"\"\"Returns true if we found the resolved IP in the traceroute (success).\"\"\"\n",
    "    ips = list(traceroute_ips)\n",
    "    resolved_ips = [ip for ip in ips if ip is not None]\n",
    "    dest_ip = list(resolved_ips)[0]\n",
    "    if dest_ip in resolved_ips[1:]:\n",
    "        return True\n",
    "    dest_asn = asndb.lookup(dest_ip)\n",
    "    if dest_asn in [asndb.lookup(ip) for ip in resolved_ips[1:]]:\n",
    "        return True\n",
    "    return False"
   ]
  },
  {
   "cell_type": "code",
   "execution_count": 15,
   "metadata": {},
   "outputs": [],
   "source": [
    "def get_final_rtt(traceroute_rtts):\n",
    "    traceroute_rtts = traceroute_rtts.filter(regex='.*rtt.*')\n",
    "    final_rtt = None\n",
    "    for rtt in traceroute_rtts:\n",
    "        try:\n",
    "            final_rtt = float(rtt)\n",
    "        except:\n",
    "            pass\n",
    "    assert final_rtt != None\n",
    "    return final_rtt "
   ]
  },
  {
   "cell_type": "code",
   "execution_count": 16,
   "metadata": {},
   "outputs": [],
   "source": [
    "def cleanup_trees_for_rtt_analysis(trees):\n",
    "    # Only consider successful rtts\n",
    "    print(f'{len(trees)} total traceroutes.')\n",
    "    successful_rtt_trees = trees[trees.apply(lambda x: was_traceroute_successful(x), axis=1)]\n",
    "\n",
    "    # We only care about the rtts\n",
    "    print(f'{len(successful_rtt_trees)} fully successful traceroutes.')\n",
    "    rtt_trees = successful_rtt_trees.filter(regex=\".*rtt.*|dest name|time\")\n",
    "    # We only want the final rtt we observed\n",
    "    rtt_trees[\"final_rtt\"] = rtt_trees.apply(lambda row: get_final_rtt(row), axis=1)\n",
    "\n",
    "    rtt_trees['time'] = pd.to_datetime(rtt_trees['time'].apply(lambda x: time.strftime('%Y-%m-%d %H:%M:%S', time.localtime(x))))\n",
    "\n",
    "    # Simplified into 3 columns\n",
    "    simplified_rtts = rtt_trees[[\"dest name\", \"final_rtt\", \"time\"]]\n",
    "\n",
    "    return simplified_rtts"
   ]
  },
  {
   "cell_type": "code",
   "execution_count": 17,
   "metadata": {},
   "outputs": [
    {
     "name": "stdout",
     "output_type": "stream",
     "text": [
      "36860 total traceroutes.\n",
      "9013 fully successful traceroutes.\n"
     ]
    },
    {
     "name": "stderr",
     "output_type": "stream",
     "text": [
      "/tmp/ipykernel_1188/703854435.py:10: SettingWithCopyWarning:\n",
      "\n",
      "\n",
      "A value is trying to be set on a copy of a slice from a DataFrame.\n",
      "Try using .loc[row_indexer,col_indexer] = value instead\n",
      "\n",
      "See the caveats in the documentation: https://pandas.pydata.org/pandas-docs/stable/user_guide/indexing.html#returning-a-view-versus-a-copy\n",
      "\n",
      "/tmp/ipykernel_1188/703854435.py:12: SettingWithCopyWarning:\n",
      "\n",
      "\n",
      "A value is trying to be set on a copy of a slice from a DataFrame.\n",
      "Try using .loc[row_indexer,col_indexer] = value instead\n",
      "\n",
      "See the caveats in the documentation: https://pandas.pydata.org/pandas-docs/stable/user_guide/indexing.html#returning-a-view-versus-a-copy\n",
      "\n"
     ]
    },
    {
     "name": "stdout",
     "output_type": "stream",
     "text": [
      "29421 total traceroutes.\n",
      "11338 fully successful traceroutes.\n"
     ]
    }
   ],
   "source": [
    "aws_ohio_data_filepath = \"data/aws-ohio-results-1637264695.csv\"\n",
    "aws_ohio_trees = parse_output.parse_output(aws_ohio_data_filepath)\n",
    "aws_ohio_simplified_rtts = cleanup_trees_for_rtt_analysis(aws_ohio_trees)\n",
    "\n",
    "home_victor_data_filepath = \"data/home-cambridge-victor-results-1637268720.csv\"\n",
    "home_victor_trees = parse_output.parse_output(home_victor_data_filepath)\n",
    "home_victor_simplified_rtts = cleanup_trees_for_rtt_analysis(home_victor_trees)"
   ]
  },
  {
   "cell_type": "code",
   "execution_count": null,
   "metadata": {},
   "outputs": [],
   "source": [
    " # inner join the dest names to filter on\n",
    "ohio_dests = pd.DataFrame(aws_ohio_simplified_rtts[\"dest name\"].unique())\n",
    "home_dests = pd.DataFrame(home_victor_simplified_rtts[\"dest name\"].unique())\n",
    "merged_dests = ohio_dests.merge(home_dests, how=\"inner\")\n",
    "aws_ohio_comparable = aws_ohio_simplified_rtts[aws_ohio_simplified_rtts.apply(lambda row: row['dest name'] in list(merged_dests[0]), axis=1)]\n",
    "home_comparable = home_victor_simplified_rtts[home_victor_simplified_rtts.apply(lambda row: row['dest name'] in list(merged_dests[0]), axis=1)]\n",
    "home_comparable.to_csv(\"output/home-comparable.csv\")\n",
    "aws_ohio_comparable.to_csv(\"output/aws-ohio-comparable.csv\")"
   ]
  },
  {
   "cell_type": "code",
   "execution_count": 5,
   "metadata": {},
   "outputs": [],
   "source": [
    "home_victor_data_filepath = \"data/home-cambridge-victor-results-1637268720.csv\"\n",
    "home_victor_trees = parse_output.parse_output(home_victor_data_filepath)"
   ]
  },
  {
   "cell_type": "code",
   "execution_count": 10,
   "metadata": {},
   "outputs": [
    {
     "name": "stdout",
     "output_type": "stream",
     "text": [
      "6156 total traceroutes.\n",
      "2384 fully successful traceroutes.\n",
      "5675 total traceroutes.\n"
     ]
    },
    {
     "name": "stderr",
     "output_type": "stream",
     "text": [
      "/tmp/ipykernel_327/938413540.py:11: SettingWithCopyWarning: \n",
      "A value is trying to be set on a copy of a slice from a DataFrame.\n",
      "Try using .loc[row_indexer,col_indexer] = value instead\n",
      "\n",
      "See the caveats in the documentation: https://pandas.pydata.org/pandas-docs/stable/user_guide/indexing.html#returning-a-view-versus-a-copy\n",
      "  rtt_trees[\"final_rtt\"] = rtt_trees.apply(lambda row: get_final_rtt(row), axis=1)\n"
     ]
    },
    {
     "name": "stdout",
     "output_type": "stream",
     "text": [
      "2173 fully successful traceroutes.\n"
     ]
    }
   ],
   "source": [
    "weekend_start = datetime(year=2021, month=11, day=19, hour=12).timestamp()\n",
    "weekend_end = datetime(year=2021, month=11, day=22, hour=0).timestamp()\n",
    "weekday_end = datetime(year=2021, month=11, day=25, hour=0).timestamp()\n",
    "\n",
    "home_victor_weekend_trees = home_victor_trees[(home_victor_trees.time > weekend_start) & (home_victor_trees.time < weekend_end)]\n",
    "home_victor_weekday_trees = home_victor_trees[(home_victor_trees.time > weekend_end) & (home_victor_trees.time < weekday_end)]\n",
    "\n",
    "weekend_trees = cleanup_trees_for_rtt_analysis(home_victor_weekend_trees)\n",
    "weekend_trees.to_csv(\"output/home-victor-weekend.csv\")\n",
    "weekday_trees = cleanup_trees_for_rtt_analysis(home_victor_weekday_trees)\n",
    "weekday_trees.to_csv(\"output/home-victor-weekday.csv\")"
   ]
  },
  {
   "cell_type": "code",
   "execution_count": null,
   "metadata": {},
   "outputs": [],
   "source": [
    "### Plot time series\n",
    "for name, df in home_victor_simplified_rtts.groupby('dest name'):\n",
    "    df['smoothed_rtt'] = df['final_rtt'].rolling(10).mean()\n",
    "    #fig = px.line(df, x='time', y='smoothed_rtt', title=name)\n",
    "    ymin, ymax = df['smoothed_rtt'].min(), df['smoothed_rtt'].max()\n",
    "    df['weekend'] = np.where(df['time'].dt.day_name().isin(['Saturday', 'Sunday']), ymax, ymin)\n",
    "    data = []\n",
    "    data.append(\n",
    "        go.Scatter(x=df['time'], y=df['weekend'], fill='tonext', fillcolor='#d9d9d9', mode='lines', line=dict(width=0, shape='hvh'), showlegend=False, hoverinfo=None,)\n",
    "    )\n",
    "    data.append(\n",
    "        go.Scatter(\n",
    "            x=df['time'],\n",
    "            y=df['smoothed_rtt'],\n",
    "            mode='lines+markers',\n",
    "        )\n",
    "    )\n",
    "    fig = go.Figure(data=data)\n",
    "    fig.update_layout(title=name)\n",
    "    fig.show()"
   ]
  }
 ],
 "metadata": {
  "interpreter": {
   "hash": "31f2aee4e71d21fbe5cf8b01ff0e069b9275f58929596ceb00d14d90e3e16cd6"
  },
  "kernelspec": {
   "display_name": "Python 3.8.10 64-bit",
   "language": "python",
   "name": "python3"
  },
  "language_info": {
   "codemirror_mode": {
    "name": "ipython",
    "version": 3
   },
   "file_extension": ".py",
   "mimetype": "text/x-python",
   "name": "python",
   "nbconvert_exporter": "python",
   "pygments_lexer": "ipython3",
   "version": "3.9.7"
  },
  "orig_nbformat": 4
 },
 "nbformat": 4,
 "nbformat_minor": 2
}
