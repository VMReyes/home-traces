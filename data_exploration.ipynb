{
 "cells": [
  {
   "cell_type": "code",
   "execution_count": 6,
   "metadata": {},
   "outputs": [],
   "source": [
    "import parse_output\n",
    "import pandas as pd\n",
    "from datetime import datetime"
   ]
  },
  {
   "cell_type": "code",
   "execution_count": 2,
   "metadata": {},
   "outputs": [],
   "source": [
    "def was_traceroute_successful(traceroute):\n",
    "    traceroute_ips = traceroute.filter(regex=\".*ip.*\")\n",
    "    \"\"\"Returns true if we found the resolved IP in the traceroute (success).\"\"\"\n",
    "    ips = list(traceroute_ips)\n",
    "    resolved_ips = [ip for ip in ips if ip is not None]\n",
    "    dest_ip = list(resolved_ips)[0]\n",
    "    return dest_ip in resolved_ips[1:]"
   ]
  },
  {
   "cell_type": "code",
   "execution_count": 3,
   "metadata": {},
   "outputs": [],
   "source": [
    "def get_final_rtt(traceroute_rtts):\n",
    "    final_rtt = None\n",
    "    for rtt in traceroute_rtts:\n",
    "        try:\n",
    "            final_rtt = float(rtt)\n",
    "        except:\n",
    "            pass\n",
    "    assert final_rtt != None\n",
    "    return final_rtt "
   ]
  },
  {
   "cell_type": "code",
   "execution_count": 4,
   "metadata": {},
   "outputs": [],
   "source": [
    "def cleanup_trees_for_rtt_analysis(trees):\n",
    "    # Only consider successful rtts\n",
    "    print(f'{len(trees)} total traceroutes.')\n",
    "    successful_rtt_trees = trees[trees.apply(lambda x: was_traceroute_successful(x), axis=1)]\n",
    "\n",
    "    # We only care about the rtts\n",
    "    print(f'{len(successful_rtt_trees)} fully successful traceroutes.')\n",
    "    rtt_trees = successful_rtt_trees.filter(regex=\".*rtt.*|dest name\")\n",
    "\n",
    "    # We only want the final rtt we observed\n",
    "    rtt_trees[\"final_rtt\"] = rtt_trees.apply(lambda row: get_final_rtt(row), axis=1)\n",
    "\n",
    "    # Simplified into two columns\n",
    "    simplified_rtts = rtt_trees[[\"dest name\", \"final_rtt\"]]\n",
    "\n",
    "    return simplified_rtts"
   ]
  },
  {
   "cell_type": "code",
   "execution_count": 5,
   "metadata": {},
   "outputs": [
    {
     "name": "stdout",
     "output_type": "stream",
     "text": [
      "36860 total traceroutes.\n",
      "9013 fully successful traceroutes.\n"
     ]
    },
    {
     "name": "stderr",
     "output_type": "stream",
     "text": [
      "/tmp/ipykernel_3412/938413540.py:11: SettingWithCopyWarning: \n",
      "A value is trying to be set on a copy of a slice from a DataFrame.\n",
      "Try using .loc[row_indexer,col_indexer] = value instead\n",
      "\n",
      "See the caveats in the documentation: https://pandas.pydata.org/pandas-docs/stable/user_guide/indexing.html#returning-a-view-versus-a-copy\n",
      "  rtt_trees[\"final_rtt\"] = rtt_trees.apply(lambda row: get_final_rtt(row), axis=1)\n"
     ]
    },
    {
     "name": "stdout",
     "output_type": "stream",
     "text": [
      "9665 total traceroutes.\n",
      "3734 fully successful traceroutes.\n"
     ]
    }
   ],
   "source": [
    "aws_ohio_data_filepath = \"data/aws-ohio-results-1637264695.csv\"\n",
    "aws_ohio_trees = parse_output.parse_output(aws_ohio_data_filepath)\n",
    "aws_ohio_simplified_rtts = cleanup_trees_for_rtt_analysis(aws_ohio_trees)\n",
    "\n",
    "#aws_virginia_data_filepath = \"data/\"\n",
    "\n",
    "home_victor_data_filepath = \"data/home-victor-results-1637268720-incomplete.csv\"\n",
    "home_victor_trees = parse_output.parse_output(home_victor_data_filepath)\n",
    "home_victor_simplified_rtts = cleanup_trees_for_rtt_analysis(home_victor_trees)\n",
    " # inner join the dest names to filter on\n",
    "ohio_dests = pd.DataFrame(aws_ohio_simplified_rtts[\"dest name\"].unique())\n",
    "home_dests = pd.DataFrame(home_victor_simplified_rtts[\"dest name\"].unique())\n",
    "merged_dests = ohio_dests.merge(home_dests, how=\"inner\")\n",
    "aws_ohio_comparable = aws_ohio_simplified_rtts[aws_ohio_simplified_rtts.apply(lambda row: row['dest name'] in list(merged_dests[0]), axis=1)]\n",
    "home_comparable = home_victor_simplified_rtts[home_victor_simplified_rtts.apply(lambda row: row['dest name'] in list(merged_dests[0]), axis=1)]\n",
    "#home_comparable.to_csv(\"output/home-comparable.csv\")\n",
    "aws_ohio_comparable.to_csv(\"output/aws-ohio-comparable.csv\")"
   ]
  },
  {
   "cell_type": "code",
   "execution_count": 5,
   "metadata": {},
   "outputs": [],
   "source": [
    "home_victor_data_filepath = \"data/home-victor-results-1637268720-incomplete.csv\"\n",
    "home_victor_trees = parse_output.parse_output(home_victor_data_filepath)\n",
    "#home_victor_weekend = home_victor_trees[home_victor_trees['tim']]\n",
    "#home_victor_simplified_rtts = cleanup_trees_for_rtt_analysis(home_victor_trees)"
   ]
  },
  {
   "cell_type": "code",
   "execution_count": 10,
   "metadata": {},
   "outputs": [
    {
     "data": {
      "text/plain": [
       "1637557200.0"
      ]
     },
     "execution_count": 10,
     "metadata": {},
     "output_type": "execute_result"
    }
   ],
   "source": [
    "weekend_start = datetime(year=2021, month=11, day=19, hour=12).timestamp()\n",
    "weekend_end = datetime(year=2021, month=11, day=22, hour=0).timestamp()\n",
    "\n",
    "home_victor_weekend_trees = home_victor_trees[home_victor_trees[\"time\"]]"
   ]
  }
 ],
 "metadata": {
  "interpreter": {
   "hash": "31f2aee4e71d21fbe5cf8b01ff0e069b9275f58929596ceb00d14d90e3e16cd6"
  },
  "kernelspec": {
   "display_name": "Python 3.8.10 64-bit",
   "language": "python",
   "name": "python3"
  },
  "language_info": {
   "codemirror_mode": {
    "name": "ipython",
    "version": 3
   },
   "file_extension": ".py",
   "mimetype": "text/x-python",
   "name": "python",
   "nbconvert_exporter": "python",
   "pygments_lexer": "ipython3",
   "version": "3.9.7"
  },
  "orig_nbformat": 4
 },
 "nbformat": 4,
 "nbformat_minor": 2
}
